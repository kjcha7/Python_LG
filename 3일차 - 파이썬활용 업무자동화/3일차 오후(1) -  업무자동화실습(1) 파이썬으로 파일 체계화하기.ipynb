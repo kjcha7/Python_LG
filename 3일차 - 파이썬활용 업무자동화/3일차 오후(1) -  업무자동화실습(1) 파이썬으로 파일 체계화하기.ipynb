{
 "cells": [
  {
   "cell_type": "code",
   "execution_count": 1,
   "metadata": {
    "collapsed": true
   },
   "outputs": [],
   "source": [
    "helloFile = open('hello.txt')"
   ]
  },
  {
   "cell_type": "code",
   "execution_count": 2,
   "metadata": {},
   "outputs": [
    {
     "data": {
      "text/plain": [
       "<_io.TextIOWrapper name='hello.txt' mode='r' encoding='cp949'>"
      ]
     },
     "execution_count": 2,
     "metadata": {},
     "output_type": "execute_result"
    }
   ],
   "source": [
    "helloFile"
   ]
  },
  {
   "cell_type": "code",
   "execution_count": 3,
   "metadata": {},
   "outputs": [
    {
     "data": {
      "text/plain": [
       "'Hello Python\\n'"
      ]
     },
     "execution_count": 3,
     "metadata": {},
     "output_type": "execute_result"
    }
   ],
   "source": [
    "helloContents = helloFile.read()\n",
    "helloContents"
   ]
  },
  {
   "cell_type": "code",
   "execution_count": 4,
   "metadata": {},
   "outputs": [
    {
     "data": {
      "text/plain": [
       "12"
      ]
     },
     "execution_count": 4,
     "metadata": {},
     "output_type": "execute_result"
    }
   ],
   "source": [
    "newFile = open('new.txt', 'w')\n",
    "newFile.write('Hello World!')"
   ]
  },
  {
   "cell_type": "code",
   "execution_count": 5,
   "metadata": {
    "collapsed": true
   },
   "outputs": [],
   "source": [
    "newFile.close()"
   ]
  },
  {
   "cell_type": "code",
   "execution_count": 6,
   "metadata": {},
   "outputs": [
    {
     "data": {
      "text/plain": [
       "26"
      ]
     },
     "execution_count": 6,
     "metadata": {},
     "output_type": "execute_result"
    }
   ],
   "source": [
    "#파일추가모드\n",
    "newFile = open('new.txt', 'a')\n",
    "newFile.write('이것은 나의 첫번째 파이썬 기반 파일 추가입니다')"
   ]
  },
  {
   "cell_type": "code",
   "execution_count": 7,
   "metadata": {
    "collapsed": true
   },
   "outputs": [],
   "source": [
    "newFile.close()"
   ]
  },
  {
   "cell_type": "code",
   "execution_count": 8,
   "metadata": {},
   "outputs": [
    {
     "name": "stdout",
     "output_type": "stream",
     "text": [
      "Hello World!이것은 나의 첫번째 파이썬 기반 파일 추가입니다\n"
     ]
    }
   ],
   "source": [
    "newFile = open('new.txt')\n",
    "content = newFile.read()\n",
    "newFile.close()\n",
    "print(content)"
   ]
  },
  {
   "cell_type": "markdown",
   "metadata": {},
   "source": [
    "- 폴더의 모든 하위 폴더에 있는 모든 PDF파일만 사본 만들기\n",
    "- spam001.txt, spam002.txt와 같은 식의 이름을 가진 파일이 수백개나 있는 폴더안에 있는 모든 파일의 숫자에서 앞에 붙은 0을지우기\n",
    "- 여러폴더의 내용을 하나의 ZIP파일에 압축하기"
   ]
  },
  {
   "cell_type": "markdown",
   "metadata": {},
   "source": [
    "- shutil()모듈은 파이썬 프로그램에서 파일을 복사, 이동, 이름 바꾸기 삭제하기 기능을 제공함\n",
    "- shutil.copy(source, destination)함수를 호출하면 source경로에 있는 파일을 destination경로로 복사한다. "
   ]
  },
  {
   "cell_type": "code",
   "execution_count": 9,
   "metadata": {
    "collapsed": true
   },
   "outputs": [],
   "source": [
    "import shutil, os"
   ]
  },
  {
   "cell_type": "code",
   "execution_count": 11,
   "metadata": {
    "collapsed": true
   },
   "outputs": [],
   "source": [
    "#dir 바꾸기\n",
    "os.chdir('/Users/kyung/LG2019 강의안/')"
   ]
  },
  {
   "cell_type": "code",
   "execution_count": null,
   "metadata": {
    "collapsed": true
   },
   "outputs": [],
   "source": [
    "shutil.copy('hello.txt', '/Users/kyung/LG2019 강의안/1일차 - 파이썬 기초')"
   ]
  },
  {
   "cell_type": "code",
   "execution_count": 54,
   "metadata": {},
   "outputs": [
    {
     "data": {
      "text/plain": [
       "'/Users/kyung/Desktop/외부강의/딥러닝과 텍스트마이닝'"
      ]
     },
     "execution_count": 54,
     "metadata": {},
     "output_type": "execute_result"
    }
   ],
   "source": [
    "#현재 디렉토리 확인\n",
    "import os\n",
    "os.getcwd()"
   ]
  },
  {
   "cell_type": "code",
   "execution_count": 20,
   "metadata": {},
   "outputs": [
    {
     "data": {
      "text/plain": [
       "'/Users/kyung/LG2019 강의안/LG2019 2/1일차 - 파이썬 기초/hello2.txt'"
      ]
     },
     "execution_count": 20,
     "metadata": {},
     "output_type": "execute_result"
    }
   ],
   "source": [
    "#복사해서 복사되는 파일이름 새롭게 바꾸기\n",
    "shutil.copy('hello.txt', '/Users/kyung/LG2019 강의안/LG2019 2/1일차 - 파이썬 기초/hello2.txt')"
   ]
  },
  {
   "cell_type": "code",
   "execution_count": 21,
   "metadata": {},
   "outputs": [
    {
     "data": {
      "text/plain": [
       "'/Users/kyung/LG 2019 New 강의안/1일차 - 파이썬 기초/data_backup'"
      ]
     },
     "execution_count": 21,
     "metadata": {},
     "output_type": "execute_result"
    }
   ],
   "source": [
    "#전체폴더와 그 안에 포함된 모든 폴더 및 파일까지 복사하기\n",
    "shutil.copytree('/Users/kyung/LG2019 강의안/LG2019 2/1일차 - 파이썬 기초/data', '/Users/kyung/LG 2019 New 강의안/1일차 - 파이썬 기초/data_backup' )"
   ]
  },
  {
   "cell_type": "code",
   "execution_count": 23,
   "metadata": {},
   "outputs": [
    {
     "data": {
      "text/plain": [
       "'/Users/kyung/LG2019 강의안/LG2019 2/1일차 - 파이썬 기초/hellowV2.txt'"
      ]
     },
     "execution_count": 23,
     "metadata": {},
     "output_type": "execute_result"
    }
   ],
   "source": [
    "#이동하기\n",
    "shutil.move('hello.txt', '/Users/kyung/LG2019 강의안/LG2019 2/1일차 - 파이썬 기초/hellowV2.txt')"
   ]
  },
  {
   "cell_type": "markdown",
   "metadata": {},
   "source": [
    "## 파일 및 폴더 완전히 지우기 : Shutil.rmtree"
   ]
  },
  {
   "cell_type": "markdown",
   "metadata": {},
   "source": [
    "- .txt파일 확장자를 오타때문에 .rxt 파일을 지우는 파이썬 프로그램"
   ]
  },
  {
   "cell_type": "code",
   "execution_count": 18,
   "metadata": {
    "collapsed": true
   },
   "outputs": [],
   "source": [
    "import os\n",
    "for filename in os.listdir():\n",
    "    if filename.endswith('.rxt'):\n",
    "        #os.unlink(filename)\n",
    "        print(filename)"
   ]
  },
  {
   "cell_type": "markdown",
   "metadata": {},
   "source": [
    "## send2trash 모듈로 안전하게 지우기"
   ]
  },
  {
   "cell_type": "code",
   "execution_count": 19,
   "metadata": {
    "collapsed": true
   },
   "outputs": [],
   "source": [
    "import send2trash"
   ]
  },
  {
   "cell_type": "code",
   "execution_count": 20,
   "metadata": {},
   "outputs": [
    {
     "data": {
      "text/plain": [
       "12"
      ]
     },
     "execution_count": 20,
     "metadata": {},
     "output_type": "execute_result"
    }
   ],
   "source": [
    "baconfile = open('bacon.txt', 'a') #creat the file\n",
    "baconfile.write('베이컨은 채소가 아니다')"
   ]
  },
  {
   "cell_type": "code",
   "execution_count": 21,
   "metadata": {
    "collapsed": true
   },
   "outputs": [],
   "source": [
    "baconfile.close()\n",
    "send2trash.send2trash('bacon.txt')"
   ]
  },
  {
   "cell_type": "markdown",
   "metadata": {},
   "source": [
    "## 디렉토리 트리 돌아다니기"
   ]
  },
  {
   "cell_type": "code",
   "execution_count": 24,
   "metadata": {},
   "outputs": [
    {
     "name": "stdout",
     "output_type": "stream",
     "text": [
      "The current folder is/Users/kyung/LG2019 강의안/LG2019 2/1일차 - 파이썬 기초/\n",
      "하위폴더는/Users/kyung/LG2019 강의안/LG2019 2/1일차 - 파이썬 기초/:.ipynb_checkpoints\n",
      "하위폴더는/Users/kyung/LG2019 강의안/LG2019 2/1일차 - 파이썬 기초/:data\n",
      "하위폴더는/Users/kyung/LG2019 강의안/LG2019 2/1일차 - 파이썬 기초/:data_backup\n",
      "폴더속 파일 이름은/Users/kyung/LG2019 강의안/LG2019 2/1일차 - 파이썬 기초/:1일차 오전 파이썬 기초문법 (2) - 간단한 리뷰와 퀴즈.ipynb\n",
      "폴더속 파일 이름은/Users/kyung/LG2019 강의안/LG2019 2/1일차 - 파이썬 기초/:1일차 오전 파이썬기초문법 (1) - 간단한 리뷰와 퀴즈.ipynb\n",
      "폴더속 파일 이름은/Users/kyung/LG2019 강의안/LG2019 2/1일차 - 파이썬 기초/:1일차 오후 세션1- Numpy 맛보기.ipynb\n",
      "폴더속 파일 이름은/Users/kyung/LG2019 강의안/LG2019 2/1일차 - 파이썬 기초/:1일차 오후 세션2 - Pandas 맛보기.ipynb\n",
      "폴더속 파일 이름은/Users/kyung/LG2019 강의안/LG2019 2/1일차 - 파이썬 기초/:1일차 오후 세션3 판다스를 활용한 기초통계량 분석.ipynb\n",
      "폴더속 파일 이름은/Users/kyung/LG2019 강의안/LG2019 2/1일차 - 파이썬 기초/:1일차 오후 세션4 데이터로딩, 저장, 여러파일형식 다루기.ipynb\n",
      "폴더속 파일 이름은/Users/kyung/LG2019 강의안/LG2019 2/1일차 - 파이썬 기초/:hello.txt\n",
      "폴더속 파일 이름은/Users/kyung/LG2019 강의안/LG2019 2/1일차 - 파이썬 기초/:hello2.txt\n",
      "폴더속 파일 이름은/Users/kyung/LG2019 강의안/LG2019 2/1일차 - 파이썬 기초/:hellowV2.txt\n",
      "\n",
      "The current folder is/Users/kyung/LG2019 강의안/LG2019 2/1일차 - 파이썬 기초/.ipynb_checkpoints\n",
      "폴더속 파일 이름은/Users/kyung/LG2019 강의안/LG2019 2/1일차 - 파이썬 기초/.ipynb_checkpoints:1일차 오전 파이썬 기초문법 (2) - 간단한 리뷰와 퀴즈-checkpoint.ipynb\n",
      "폴더속 파일 이름은/Users/kyung/LG2019 강의안/LG2019 2/1일차 - 파이썬 기초/.ipynb_checkpoints:1일차 오전 파이썬기초문법 (1) - 간단한 리뷰와 퀴즈-checkpoint.ipynb\n",
      "폴더속 파일 이름은/Users/kyung/LG2019 강의안/LG2019 2/1일차 - 파이썬 기초/.ipynb_checkpoints:1일차 오후 세션1- Numpy 맛보기-checkpoint.ipynb\n",
      "폴더속 파일 이름은/Users/kyung/LG2019 강의안/LG2019 2/1일차 - 파이썬 기초/.ipynb_checkpoints:1일차 오후 세션2 - Pandas 맛보기-checkpoint.ipynb\n",
      "폴더속 파일 이름은/Users/kyung/LG2019 강의안/LG2019 2/1일차 - 파이썬 기초/.ipynb_checkpoints:1일차 오후 세션3 판다스를 활용한 기초통계량 분석-checkpoint.ipynb\n",
      "폴더속 파일 이름은/Users/kyung/LG2019 강의안/LG2019 2/1일차 - 파이썬 기초/.ipynb_checkpoints:1일차 오후 세션4 데이터로딩, 저장, 여러파일형식 다루기-checkpoint.ipynb\n",
      "\n",
      "The current folder is/Users/kyung/LG2019 강의안/LG2019 2/1일차 - 파이썬 기초/data\n",
      "폴더속 파일 이름은/Users/kyung/LG2019 강의안/LG2019 2/1일차 - 파이썬 기초/data:csv_mindex.csv\n",
      "폴더속 파일 이름은/Users/kyung/LG2019 강의안/LG2019 2/1일차 - 파이썬 기초/data:ex1.csv\n",
      "폴더속 파일 이름은/Users/kyung/LG2019 강의안/LG2019 2/1일차 - 파이썬 기초/data:ex2.csv\n",
      "폴더속 파일 이름은/Users/kyung/LG2019 강의안/LG2019 2/1일차 - 파이썬 기초/data:ex3.csv\n",
      "폴더속 파일 이름은/Users/kyung/LG2019 강의안/LG2019 2/1일차 - 파이썬 기초/data:ex3.txt\n",
      "폴더속 파일 이름은/Users/kyung/LG2019 강의안/LG2019 2/1일차 - 파이썬 기초/data:ex4.csv\n",
      "폴더속 파일 이름은/Users/kyung/LG2019 강의안/LG2019 2/1일차 - 파이썬 기초/data:ex5.csv\n",
      "폴더속 파일 이름은/Users/kyung/LG2019 강의안/LG2019 2/1일차 - 파이썬 기초/data:ex6.csv\n",
      "폴더속 파일 이름은/Users/kyung/LG2019 강의안/LG2019 2/1일차 - 파이썬 기초/data:ex7.csv\n",
      "폴더속 파일 이름은/Users/kyung/LG2019 강의안/LG2019 2/1일차 - 파이썬 기초/data:example.json\n",
      "폴더속 파일 이름은/Users/kyung/LG2019 강의안/LG2019 2/1일차 - 파이썬 기초/data:fdic_failed_bank_list.html\n",
      "폴더속 파일 이름은/Users/kyung/LG2019 강의안/LG2019 2/1일차 - 파이썬 기초/data:out.csv\n",
      "폴더속 파일 이름은/Users/kyung/LG2019 강의안/LG2019 2/1일차 - 파이썬 기초/data:yahoo_price.pkl\n",
      "폴더속 파일 이름은/Users/kyung/LG2019 강의안/LG2019 2/1일차 - 파이썬 기초/data:yahoo_volume.pkl\n",
      "\n",
      "The current folder is/Users/kyung/LG2019 강의안/LG2019 2/1일차 - 파이썬 기초/data_backup\n",
      "폴더속 파일 이름은/Users/kyung/LG2019 강의안/LG2019 2/1일차 - 파이썬 기초/data_backup:csv_mindex.csv\n",
      "폴더속 파일 이름은/Users/kyung/LG2019 강의안/LG2019 2/1일차 - 파이썬 기초/data_backup:ex1.csv\n",
      "폴더속 파일 이름은/Users/kyung/LG2019 강의안/LG2019 2/1일차 - 파이썬 기초/data_backup:ex2.csv\n",
      "폴더속 파일 이름은/Users/kyung/LG2019 강의안/LG2019 2/1일차 - 파이썬 기초/data_backup:ex3.csv\n",
      "폴더속 파일 이름은/Users/kyung/LG2019 강의안/LG2019 2/1일차 - 파이썬 기초/data_backup:ex3.txt\n",
      "폴더속 파일 이름은/Users/kyung/LG2019 강의안/LG2019 2/1일차 - 파이썬 기초/data_backup:ex4.csv\n",
      "폴더속 파일 이름은/Users/kyung/LG2019 강의안/LG2019 2/1일차 - 파이썬 기초/data_backup:ex5.csv\n",
      "폴더속 파일 이름은/Users/kyung/LG2019 강의안/LG2019 2/1일차 - 파이썬 기초/data_backup:ex6.csv\n",
      "폴더속 파일 이름은/Users/kyung/LG2019 강의안/LG2019 2/1일차 - 파이썬 기초/data_backup:ex7.csv\n",
      "폴더속 파일 이름은/Users/kyung/LG2019 강의안/LG2019 2/1일차 - 파이썬 기초/data_backup:example.json\n",
      "폴더속 파일 이름은/Users/kyung/LG2019 강의안/LG2019 2/1일차 - 파이썬 기초/data_backup:fdic_failed_bank_list.html\n",
      "폴더속 파일 이름은/Users/kyung/LG2019 강의안/LG2019 2/1일차 - 파이썬 기초/data_backup:out.csv\n",
      "폴더속 파일 이름은/Users/kyung/LG2019 강의안/LG2019 2/1일차 - 파이썬 기초/data_backup:yahoo_price.pkl\n",
      "폴더속 파일 이름은/Users/kyung/LG2019 강의안/LG2019 2/1일차 - 파이썬 기초/data_backup:yahoo_volume.pkl\n",
      "\n"
     ]
    }
   ],
   "source": [
    "import os\n",
    "for folderName, subfolders, filenames in os.walk('/Users/kyung/LG2019 강의안/LG2019 2/1일차 - 파이썬 기초/'):\n",
    "    print('The current folder is' + folderName)\n",
    "    \n",
    "    for subfolder in subfolders:\n",
    "        print('하위폴더는' + folderName + ':' + subfolder)\n",
    "        \n",
    "    for filename in filenames:\n",
    "        print('폴더속 파일 이름은' + folderName + ':'+filename)\n",
    "            \n",
    "    print('')"
   ]
  },
  {
   "cell_type": "code",
   "execution_count": 25,
   "metadata": {},
   "outputs": [
    {
     "name": "stdout",
     "output_type": "stream",
     "text": [
      "The current folder is/Users/kyung/LG2019 강의안/LG2019 2\n",
      "하위폴더는/Users/kyung/LG2019 강의안/LG2019 2:1일차 - 파이썬 기초\n",
      "하위폴더는/Users/kyung/LG2019 강의안/LG2019 2:2일차 - 파이썬활용 데이터분석과 업무자동화\n",
      "하위폴더는/Users/kyung/LG2019 강의안/LG2019 2:3일차 - 파이썬기반 예측분석 머신러닝\n",
      "폴더속 ZIP파일 이름은/Users/kyung/LG2019 강의안/LG2019 2:hello.zip\n",
      "폴더속 ZIP파일 이름은/Users/kyung/LG2019 강의안/LG2019 2:광주강의.zip\n",
      "\n",
      "The current folder is/Users/kyung/LG2019 강의안/LG2019 2\\1일차 - 파이썬 기초\n",
      "하위폴더는/Users/kyung/LG2019 강의안/LG2019 2\\1일차 - 파이썬 기초:.ipynb_checkpoints\n",
      "하위폴더는/Users/kyung/LG2019 강의안/LG2019 2\\1일차 - 파이썬 기초:data\n",
      "하위폴더는/Users/kyung/LG2019 강의안/LG2019 2\\1일차 - 파이썬 기초:data_backup\n",
      "\n",
      "The current folder is/Users/kyung/LG2019 강의안/LG2019 2\\1일차 - 파이썬 기초\\.ipynb_checkpoints\n",
      "\n",
      "The current folder is/Users/kyung/LG2019 강의안/LG2019 2\\1일차 - 파이썬 기초\\data\n",
      "\n",
      "The current folder is/Users/kyung/LG2019 강의안/LG2019 2\\1일차 - 파이썬 기초\\data_backup\n",
      "\n",
      "The current folder is/Users/kyung/LG2019 강의안/LG2019 2\\2일차 - 파이썬활용 데이터분석과 업무자동화\n",
      "하위폴더는/Users/kyung/LG2019 강의안/LG2019 2\\2일차 - 파이썬활용 데이터분석과 업무자동화:.ipynb_checkpoints\n",
      "하위폴더는/Users/kyung/LG2019 강의안/LG2019 2\\2일차 - 파이썬활용 데이터분석과 업무자동화:examples\n",
      "\n",
      "The current folder is/Users/kyung/LG2019 강의안/LG2019 2\\2일차 - 파이썬활용 데이터분석과 업무자동화\\.ipynb_checkpoints\n",
      "\n",
      "The current folder is/Users/kyung/LG2019 강의안/LG2019 2\\2일차 - 파이썬활용 데이터분석과 업무자동화\\examples\n",
      "\n",
      "The current folder is/Users/kyung/LG2019 강의안/LG2019 2\\3일차 - 파이썬기반 예측분석 머신러닝\n",
      "하위폴더는/Users/kyung/LG2019 강의안/LG2019 2\\3일차 - 파이썬기반 예측분석 머신러닝:.ipynb_checkpoints\n",
      "하위폴더는/Users/kyung/LG2019 강의안/LG2019 2\\3일차 - 파이썬기반 예측분석 머신러닝:data\n",
      "\n",
      "The current folder is/Users/kyung/LG2019 강의안/LG2019 2\\3일차 - 파이썬기반 예측분석 머신러닝\\.ipynb_checkpoints\n",
      "\n",
      "The current folder is/Users/kyung/LG2019 강의안/LG2019 2\\3일차 - 파이썬기반 예측분석 머신러닝\\data\n",
      "\n"
     ]
    }
   ],
   "source": [
    "import os\n",
    "for folderName, subfolders, filenames in os.walk('/Users/kyung/LG2019 강의안/LG2019 2'):\n",
    "    print('The current folder is' + folderName)\n",
    "    \n",
    "    for subfolder in subfolders:\n",
    "        print('하위폴더는' + folderName + ':' + subfolder)\n",
    "        \n",
    "    for filename in filenames:\n",
    "        if filename.endswith('.zip'):\n",
    "            print('폴더속 ZIP파일 이름은' + folderName + ':'+filename)\n",
    "            \n",
    "    print('')"
   ]
  },
  {
   "cell_type": "markdown",
   "metadata": {},
   "source": [
    "## zipfile 모듈 사용하기"
   ]
  },
  {
   "cell_type": "code",
   "execution_count": 26,
   "metadata": {
    "collapsed": true
   },
   "outputs": [],
   "source": [
    "import zipfile"
   ]
  },
  {
   "cell_type": "code",
   "execution_count": null,
   "metadata": {
    "collapsed": true
   },
   "outputs": [],
   "source": [
    "newZip = zipfile.ZipFile('hello.zip', 'w')\n",
    "newZip.write('hello.txt', compress_type=zipfile.ZIP_DEFLATED)\n",
    "newZip.close()\n",
    "#기존의 zip파일에 추가하려면? zipfile.ZipFile(텍스트파일, a) - 추각모듈을 써야함"
   ]
  },
  {
   "cell_type": "code",
   "execution_count": 30,
   "metadata": {
    "collapsed": true
   },
   "outputs": [],
   "source": [
    "import zipfile, os\n",
    "os.chdir('/Users/kyung/LG2019 강의안/LG2019 2')"
   ]
  },
  {
   "cell_type": "code",
   "execution_count": 31,
   "metadata": {},
   "outputs": [
    {
     "data": {
      "text/plain": [
       "['δ▓á∞¥┤∞ºò Ω│╡Ω╕░∞ºê ∞ÿê∞╕í.ipynb',\n",
       " '__MACOSX/',\n",
       " '__MACOSX/._δ▓á∞¥┤∞ºò Ω│╡Ω╕░∞ºê ∞ÿê∞╕í.ipynb',\n",
       " 'seq2seq-translation.ipynb',\n",
       " '__MACOSX/._seq2seq-translation.ipynb',\n",
       " 'c7-4∞û╕∞û┤δ¬¿δì╕δºü.ipynb',\n",
       " '__MACOSX/._c7-4∞û╕∞û┤δ¬¿δì╕δºü.ipynb',\n",
       " 'Class3Word2VecGensim∞áäδé¿δîÇ.ipynb',\n",
       " '__MACOSX/._Class3Word2VecGensim∞áäδé¿δîÇ.ipynb',\n",
       " 'tweet_train (1).csv',\n",
       " '__MACOSX/._tweet_train (1).csv',\n",
       " 'translate.ipynb',\n",
       " '__MACOSX/._translate.ipynb',\n",
       " 'tweet_test (1).csv',\n",
       " '__MACOSX/._tweet_test (1).csv',\n",
       " 'LSTM∞¥ä ∞¥┤∞Ü⌐φò£ δí£∞¥┤φä░δë┤∞èñ ∞╣┤φàîΩ│áδª¼ δ╢äδÑÿφòÿΩ╕░.ipynb',\n",
       " '__MACOSX/._LSTM∞¥ä ∞¥┤∞Ü⌐φò£ δí£∞¥┤φä░δë┤∞èñ ∞╣┤φàîΩ│áδª¼ δ╢äδÑÿφòÿΩ╕░.ipynb',\n",
       " 'ßäÉßà│ßäïßà▒ßäÉßàÑßäçßà«ßå½ßäëßàÑßå¿ßäïßàíßå»ßäÇßà⌐ßäàßà╡ßäîßà│ßå╖ßäçßà╡ßäÇßà¡ ßäåßà╡ßå╛ ßäëßà╡ßå»ßäëßà│ßå╕.pdf',\n",
       " '__MACOSX/._ßäÉßà│ßäïßà▒ßäÉßàÑßäçßà«ßå½ßäëßàÑßå¿ßäïßàíßå»ßäÇßà⌐ßäàßà╡ßäîßà│ßå╖ßäçßà╡ßäÇßà¡ ßäåßà╡ßå╛ ßäëßà╡ßå»ßäëßà│ßå╕.pdf',\n",
       " 'microsoft.pdf',\n",
       " '__MACOSX/._microsoft.pdf',\n",
       " 'The_little_prince.txt',\n",
       " '__MACOSX/._The_little_prince.txt',\n",
       " '3Ω╡É∞ï£. φò£Ω╕Ç∞₧É∞ù░∞û┤∞▓ÿδª¼,∞¢îδô£φü┤δ¥╝∞Ü░δô£δô▒.ipynb',\n",
       " '__MACOSX/._3Ω╡É∞ï£. φò£Ω╕Ç∞₧É∞ù░∞û┤∞▓ÿδª¼,∞¢îδô£φü┤δ¥╝∞Ü░δô£δô▒.ipynb',\n",
       " 'ßäÉßà│ßäïßà▒ßäÉßàÑGithub.txt',\n",
       " '__MACOSX/._ßäÉßà│ßäïßà▒ßäÉßàÑGithub.txt',\n",
       " 'LSTM + CNN∞í░φò⌐φò┤∞ä£ ∞ÿüφÖöδª¼δ╖░δ╢ä∞ä¥φòÿΩ╕░.ipynb',\n",
       " '__MACOSX/._LSTM + CNN∞í░φò⌐φò┤∞ä£ ∞ÿüφÖöδª¼δ╖░δ╢ä∞ä¥φòÿΩ╕░.ipynb',\n",
       " 'text-mining 2.ipynb',\n",
       " '__MACOSX/._text-mining 2.ipynb',\n",
       " 'text-mining.ipynb',\n",
       " '__MACOSX/._text-mining.ipynb',\n",
       " 'KaggleMovieReviewSentimentAnalysisßäÇßàºßå╝ßäîßà╡ßå½ßäâßàóßäÆßà¼ßäÄßàíßå╖ßäÇßàíßäÆßàíßäÇßà╡.txt',\n",
       " '__MACOSX/._KaggleMovieReviewSentimentAnalysisßäÇßàºßå╝ßäîßà╡ßå½ßäâßàóßäÆßà¼ßäÄßàíßå╖ßäÇßàíßäÆßàíßäÇßà╡.txt']"
      ]
     },
     "execution_count": 31,
     "metadata": {},
     "output_type": "execute_result"
    }
   ],
   "source": [
    "exampleZip=zipfile.ZipFile('광주강의.zip')\n",
    "exampleZip.namelist()"
   ]
  },
  {
   "cell_type": "code",
   "execution_count": 32,
   "metadata": {
    "collapsed": true
   },
   "outputs": [],
   "source": [
    "spamInfo = exampleZip.getinfo('The_little_prince.txt')"
   ]
  },
  {
   "cell_type": "code",
   "execution_count": 33,
   "metadata": {},
   "outputs": [
    {
     "data": {
      "text/plain": [
       "76620"
      ]
     },
     "execution_count": 33,
     "metadata": {},
     "output_type": "execute_result"
    }
   ],
   "source": [
    "spamInfo.file_size"
   ]
  },
  {
   "cell_type": "code",
   "execution_count": 34,
   "metadata": {},
   "outputs": [
    {
     "data": {
      "text/plain": [
       "31568"
      ]
     },
     "execution_count": 34,
     "metadata": {},
     "output_type": "execute_result"
    }
   ],
   "source": [
    "spamInfo.compress_size"
   ]
  },
  {
   "cell_type": "code",
   "execution_count": 35,
   "metadata": {
    "collapsed": true
   },
   "outputs": [],
   "source": [
    "exampleZip.close()"
   ]
  },
  {
   "cell_type": "markdown",
   "metadata": {},
   "source": [
    "### Zip 파일에서 추출하기"
   ]
  },
  {
   "cell_type": "code",
   "execution_count": 37,
   "metadata": {
    "collapsed": true
   },
   "outputs": [],
   "source": [
    "import zipfile, os\n",
    "os.chdir('/Users/kyung/LG2019 강의안/LG2019 2')\n",
    "exampleZip=zipfile.ZipFile('광주강의.zip')\n",
    "exampleZip.extractall()"
   ]
  },
  {
   "cell_type": "code",
   "execution_count": 38,
   "metadata": {
    "collapsed": true
   },
   "outputs": [],
   "source": [
    "exampleZip.close()"
   ]
  },
  {
   "cell_type": "markdown",
   "metadata": {},
   "source": [
    "- 다른폴더로 파일 추출하기"
   ]
  },
  {
   "cell_type": "code",
   "execution_count": 39,
   "metadata": {},
   "outputs": [
    {
     "data": {
      "text/plain": [
       "'C:\\\\Users\\\\kyung\\\\LG2019 강의안\\\\LG2019 2\\\\The_little_prince.txt'"
      ]
     },
     "execution_count": 39,
     "metadata": {},
     "output_type": "execute_result"
    }
   ],
   "source": [
    "exampleZip=zipfile.ZipFile('광주강의.zip')\n",
    "exampleZip.extract('The_little_prince.txt')"
   ]
  },
  {
   "cell_type": "code",
   "execution_count": 40,
   "metadata": {},
   "outputs": [
    {
     "data": {
      "text/plain": [
       "'\\\\Users\\\\kyung\\\\LG 2019 New 강의안\\\\The_little_prince.txt'"
      ]
     },
     "execution_count": 40,
     "metadata": {},
     "output_type": "execute_result"
    }
   ],
   "source": [
    "exampleZip.extract('The_little_prince.txt', '/Users/kyung/LG 2019 New 강의안')"
   ]
  },
  {
   "cell_type": "code",
   "execution_count": 41,
   "metadata": {
    "collapsed": true
   },
   "outputs": [],
   "source": [
    "exampleZip.close()"
   ]
  },
  {
   "cell_type": "code",
   "execution_count": null,
   "metadata": {
    "collapsed": true
   },
   "outputs": [],
   "source": []
  }
 ],
 "metadata": {
  "kernelspec": {
   "display_name": "Python 3",
   "language": "python",
   "name": "python3"
  },
  "language_info": {
   "codemirror_mode": {
    "name": "ipython",
    "version": 3
   },
   "file_extension": ".py",
   "mimetype": "text/x-python",
   "name": "python",
   "nbconvert_exporter": "python",
   "pygments_lexer": "ipython3",
   "version": "3.7.0"
  }
 },
 "nbformat": 4,
 "nbformat_minor": 2
}
