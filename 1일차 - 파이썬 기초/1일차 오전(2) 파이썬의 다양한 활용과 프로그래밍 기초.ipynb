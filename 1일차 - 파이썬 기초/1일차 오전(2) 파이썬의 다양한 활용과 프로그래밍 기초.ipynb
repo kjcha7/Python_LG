{
 "cells": [
  {
   "cell_type": "markdown",
   "metadata": {},
   "source": [
    "# Python의 다양한 활용"
   ]
  },
  {
   "cell_type": "markdown",
   "metadata": {},
   "source": [
    "---"
   ]
  },
  {
   "cell_type": "code",
   "execution_count": 1,
   "metadata": {
    "collapsed": true
   },
   "outputs": [],
   "source": [
    "from IPython.display import Image"
   ]
  },
  {
   "cell_type": "markdown",
   "metadata": {
    "nbpresent": {
     "id": "dcceb844-fb8e-44a3-89b6-747390c7fbbf"
    }
   },
   "source": [
    "# 1. Big Data and Data Science"
   ]
  },
  {
   "cell_type": "markdown",
   "metadata": {
    "nbpresent": {
     "id": "4cea8080-d669-4ec9-9991-b0f61e70ddcb"
    }
   },
   "source": [
    "## 1.1 Big Data"
   ]
  },
  {
   "cell_type": "markdown",
   "metadata": {
    "nbpresent": {
     "id": "30a156ff-b17c-4005-93ca-24696e3bb532"
    }
   },
   "source": [
    "- 빅데이터란 **기존 데이터베이스 관리도구의 능력을 넘어서**는 대량(수십 테라바이트)의 정형 또는 심지어 데이터베이스 형태가 아닌 비정형의 데이터 집합조차 포함한 데이터로부터 **가치를 추출**하고 **결과를 분석**하는 기술이다. (Wikipedia)\n",
    "    - 기존 데이터베이스 관리도구의 능력을 넘어서\n",
    "        - 기존 데이터베이스 관리도구(DBMS): Oracle, MSSQL, MySQL, PostgreSQL etc.\n",
    "        - MS Excel이나 위에서 언급한 DBMS는 몇 백만 데이터 간 수정, 추가, 질의 등의 작업 시 Performance가 떨어지는 경향이 있다.\n",
    "        - 때문에 빅데이터를 다룰 때 서버를 여러 대 나누어 대용량 데이터를 처리하는 개념인 **분산 처리 기술**이 중요해 진다.\n",
    "        - 이 떄 사용하는 기술들이 Apache Hadoop, Apache Spark 등이 있다.\n",
    "    - 가치를 추출\n",
    "        - 수 많은 데이터에서 가치를 추출하는 것, 즉 **Data Mining**을 하는 것은 정보의 홍수 시대에 살고 있는 지금 필요한 기술로 여겨진다.\n",
    "    - 결과를 분석\n",
    "        - 가치를 추출한 후 해당 가치에 따라 **기업의 의사 결정이 이루어지는 행동으로 이끌어 낼 수 있어야** 한다.\n",
    "- **큰 데이터를 처리하는 기술력에 치중되어 있음(ex. 분산처리)**\n",
    "    - Apache Hadoop\n",
    "    - Apache Spark\n",
    "    - etc."
   ]
  },
  {
   "cell_type": "markdown",
   "metadata": {
    "nbpresent": {
     "id": "09a5805e-ace4-4921-bc39-e2c09cfc9859"
    }
   },
   "source": [
    "## 1.2 Data Science"
   ]
  },
  {
   "cell_type": "markdown",
   "metadata": {
    "nbpresent": {
     "id": "110407cb-880a-4bb5-8dbf-210b06a3da6a"
    }
   },
   "source": [
    "### 1) 정의"
   ]
  },
  {
   "cell_type": "markdown",
   "metadata": {
    "nbpresent": {
     "id": "571c06ad-e8dc-4905-b9f1-6a83eca63e72"
    }
   },
   "source": [
    "데이터를 단순히 분류하거나 분석하는 것 말고 **데이터 속에 담긴 패턴이나 미래 예측에 도움이 되는 신호를 찾는 것**을 말합니다."
   ]
  },
  {
   "cell_type": "markdown",
   "metadata": {
    "nbpresent": {
     "id": "1bdfc7c7-6a58-4c48-9b36-1536758e8fd6"
    }
   },
   "source": [
    "### 2) Skillset"
   ]
  },
  {
   "cell_type": "code",
   "execution_count": 2,
   "metadata": {
    "nbpresent": {
     "id": "4d1cf9fb-653e-4106-b552-98fbc5f6c05d"
    }
   },
   "outputs": [
    {
     "data": {
      "image/png": "images/Data_Science_VD.png",
      "text/plain": [
       "<IPython.core.display.Image object>"
      ]
     },
     "execution_count": 2,
     "metadata": {},
     "output_type": "execute_result"
    }
   ],
   "source": [
    "Image('images/Data_Science_VD.png')"
   ]
  },
  {
   "cell_type": "markdown",
   "metadata": {
    "nbpresent": {
     "id": "c91d0201-6981-4f02-98c6-291ea8a50268"
    }
   },
   "source": [
    "[American Data Scientist, Drew Conway, 2013](http://drewconway.com/zia/2013/3/26/the-data-science-venn-diagram)"
   ]
  },
  {
   "cell_type": "markdown",
   "metadata": {
    "nbpresent": {
     "id": "30c86610-57c0-4537-85e8-990738a72539"
    }
   },
   "source": [
    "### 3) Data Science Process"
   ]
  },
  {
   "cell_type": "markdown",
   "metadata": {
    "nbpresent": {
     "id": "b1121669-7dc2-4e9c-a27f-e26ae9ece77d"
    }
   },
   "source": [
    "데이터 파이프라인이라고도 합니다.\n",
    "1. 데이터 수집\n",
    "2. 데이터 전처리\n",
    "    - Transforming\n",
    "    - Munging\n",
    "    - Wrangling\n",
    "    - Preprocessing\n",
    "3. 데이터 분석\n",
    "    - EDA(Exploratory Data Analysis)\n",
    "4. 데이터 예측\n",
    "    - Machine Learning\n",
    "5. 데이터 시각화\n",
    "    - Reporting"
   ]
  },
  {
   "cell_type": "code",
   "execution_count": 3,
   "metadata": {
    "nbpresent": {
     "id": "36c4b699-08a1-4357-9d02-d48195703ebc"
    }
   },
   "outputs": [
    {
     "data": {
      "image/png": "images/ds_process.png",
      "text/plain": [
       "<IPython.core.display.Image object>"
      ]
     },
     "execution_count": 3,
     "metadata": {},
     "output_type": "execute_result"
    }
   ],
   "source": [
    "Image('images/ds_process.png')"
   ]
  },
  {
   "cell_type": "markdown",
   "metadata": {
    "nbpresent": {
     "id": "12894203-da69-42a1-8b96-2303ec94182b"
    }
   },
   "source": [
    "### 4) Data Science에서의 다양한 Tool과 Python의 위치"
   ]
  },
  {
   "cell_type": "code",
   "execution_count": 4,
   "metadata": {
    "nbpresent": {
     "id": "6d5425c3-6a60-4b8e-b214-76dc2c95cdac"
    }
   },
   "outputs": [
    {
     "data": {
      "image/png": "images/ds_tool.png",
      "text/plain": [
       "<IPython.core.display.Image object>"
      ]
     },
     "execution_count": 4,
     "metadata": {},
     "output_type": "execute_result"
    }
   ],
   "source": [
    "Image('images/ds_tool.png')"
   ]
  },
  {
   "cell_type": "markdown",
   "metadata": {
    "nbpresent": {
     "id": "d1f85a42-310c-4b5d-bbb5-04c44f4527c1"
    }
   },
   "source": [
    "### 5) Data Science와 Big Data, Machine Learning과의 관련성"
   ]
  },
  {
   "cell_type": "code",
   "execution_count": 5,
   "metadata": {
    "nbpresent": {
     "id": "00551c82-5fb8-4591-927e-1ad2e048eff3"
    }
   },
   "outputs": [
    {
     "data": {
      "image/png": "images/ai_data-science-diagram.jpg",
      "text/plain": [
       "<IPython.core.display.Image object>"
      ]
     },
     "execution_count": 5,
     "metadata": {},
     "output_type": "execute_result"
    }
   ],
   "source": [
    "Image('images/ai_data-science-diagram.jpg')"
   ]
  },
  {
   "cell_type": "markdown",
   "metadata": {
    "nbpresent": {
     "id": "725e2628-3a95-4338-ad11-ee6027aa6579"
    }
   },
   "source": [
    "---"
   ]
  },
  {
   "cell_type": "markdown",
   "metadata": {},
   "source": [
    "---"
   ]
  },
  {
   "cell_type": "markdown",
   "metadata": {},
   "source": [
    "# 2. Python의 다양한 활용"
   ]
  },
  {
   "cell_type": "markdown",
   "metadata": {
    "nbpresent": {
     "id": "24f6d527-c63a-4a0d-9bd8-1fc87dda87ff"
    }
   },
   "source": [
    "## 2.1 Data Science에서 Python은 어떻게 활용되는가"
   ]
  },
  {
   "cell_type": "code",
   "execution_count": 6,
   "metadata": {
    "nbpresent": {
     "id": "189bc910-0283-46cb-8d1a-585b00898f1e"
    }
   },
   "outputs": [
    {
     "data": {
      "image/png": "images/bigdata_with_python.png",
      "text/plain": [
       "<IPython.core.display.Image object>"
      ]
     },
     "execution_count": 6,
     "metadata": {},
     "output_type": "execute_result"
    }
   ],
   "source": [
    "Image('images/bigdata_with_python.png')"
   ]
  },
  {
   "cell_type": "markdown",
   "metadata": {
    "nbpresent": {
     "id": "24f6d527-c63a-4a0d-9bd8-1fc87dda87ff"
    }
   },
   "source": [
    "## 2.2. Data Science에서 Python은 어떻게 활용되는가"
   ]
  },
  {
   "cell_type": "markdown",
   "metadata": {},
   "source": [
    "### 1) 단계별 Python 패키지"
   ]
  },
  {
   "cell_type": "markdown",
   "metadata": {},
   "source": [
    "1. Collecting: BeautifulSoup, Selenium, Scrapy etc.\n",
    "2. Processing(Munging, Wrangling, etc.): NumPy, pandas etc.\n",
    "3. Storing: 각 Database와 연결된 라이브러리 제공 ex) pymysql, mymongo etc.\n",
    "4. Explorary Data Analysis: NumPy, pandas etc.\n",
    "5. Machine Learning: Scikit Learn, SparkML, Tensorflow, etc.\n",
    "    - scikit-learn: 머신러닝 프레임워크입니다. 분류, 회귀, 클러스터링, 차원 축소처럼 머신러닝에서 자주 사용되는 다양한 알고리즘을 지원합니다.\n",
    "6. Communication/Reporting/Building Data Product: Django, Flask etc."
   ]
  },
  {
   "cell_type": "markdown",
   "metadata": {
    "nbpresent": {
     "id": "974bd040-9ed2-42b1-95d4-ee56b30787e8"
    }
   },
   "source": [
    "## 2.3 Python 과 R은 누가 많이 사용할까"
   ]
  },
  {
   "cell_type": "markdown",
   "metadata": {
    "nbpresent": {
     "id": "765140af-b8b6-4bf5-be0f-26e59dbdf718"
    }
   },
   "source": [
    "### 1) Kaggle"
   ]
  },
  {
   "cell_type": "markdown",
   "metadata": {
    "nbpresent": {
     "id": "2be257e1-1dc1-4da7-961e-392f027a0224"
    }
   },
   "source": [
    "- 호주 맬버른 기반 스타트업\n",
    "- 데이터 과학자들이 머신러닝을 이용해 주어진 과제를 푸는 콘테스트 사이트 (http://www.kaggle.com/)\n",
    "- 캐글을 이용하는 데이터 전문가는 60만명 (2017년 3월)\n",
    "- [구글의 캐글(Kaggle) 인수, AI 분야에 미칠 영향은?](http://www.ciokorea.com/news/33510) (2017년 3월)"
   ]
  },
  {
   "cell_type": "markdown",
   "metadata": {
    "nbpresent": {
     "id": "4a03b9e4-03e8-438a-bda8-4b1e4a7f199f"
    }
   },
   "source": [
    "출처: https://www.kaggle.com/surveys/2017?utm_medium=blog&utm_source=nofreehunch&utm_campaign=EOY+mailer+2017"
   ]
  },
  {
   "cell_type": "markdown",
   "metadata": {
    "nbpresent": {
     "id": "8b633377-6aa7-4358-ab6e-f75d0a0af6dc"
    }
   },
   "source": [
    "#### 2017년 Data Science 분야에서 가장 많이 사용하는 Tool"
   ]
  },
  {
   "cell_type": "code",
   "execution_count": 7,
   "metadata": {
    "nbpresent": {
     "id": "755a14a3-a3c3-422b-a945-459fd5b56576"
    },
    "scrolled": false
   },
   "outputs": [
    {
     "data": {
      "image/png": "images/kaggle_most_tool.png",
      "text/plain": [
       "<IPython.core.display.Image object>"
      ]
     },
     "execution_count": 7,
     "metadata": {},
     "output_type": "execute_result"
    }
   ],
   "source": [
    "Image('images/kaggle_most_tool.png')"
   ]
  },
  {
   "cell_type": "markdown",
   "metadata": {
    "nbpresent": {
     "id": "46088a8b-530c-4423-81c8-a08e4a2460e6"
    }
   },
   "source": [
    "#### 2017년 Data Science 분야에서 가장 많이 사용하는 Tool for Statistician"
   ]
  },
  {
   "cell_type": "code",
   "execution_count": 8,
   "metadata": {
    "nbpresent": {
     "id": "95f11284-322e-4d84-92e2-107f3b8b5fc6"
    }
   },
   "outputs": [
    {
     "data": {
      "image/png": "images/kaggle_tool_for_statistician.png",
      "text/plain": [
       "<IPython.core.display.Image object>"
      ]
     },
     "execution_count": 8,
     "metadata": {},
     "output_type": "execute_result"
    }
   ],
   "source": [
    "Image('images/kaggle_tool_for_statistician.png')"
   ]
  },
  {
   "cell_type": "markdown",
   "metadata": {
    "nbpresent": {
     "id": "da2ab80b-c60d-4972-a6c6-e8fccbc01d21"
    }
   },
   "source": [
    "> #### Python과 R은 주로 누가 쓸까?\n",
    "> - Python: Engineer/Machine Learning Engineer/Software Developer/Data Scientist/Comuputer Scientist\n",
    "> - R: Statistician/Data Analyst/Business Analyst"
   ]
  },
  {
   "cell_type": "markdown",
   "metadata": {},
   "source": [
    "#### 데이터 과학자로써 처음으로 배우기에 추천하는 Language by Kaggle"
   ]
  },
  {
   "cell_type": "code",
   "execution_count": 9,
   "metadata": {},
   "outputs": [
    {
     "data": {
      "image/png": "images/kaggle_recommend.png",
      "text/plain": [
       "<IPython.core.display.Image object>"
      ]
     },
     "execution_count": 9,
     "metadata": {},
     "output_type": "execute_result"
    }
   ],
   "source": [
    "Image('images/kaggle_recommend.png')"
   ]
  },
  {
   "cell_type": "markdown",
   "metadata": {
    "nbpresent": {
     "id": "edec7ea6-c21a-407a-8b10-d05f4489cc5f"
    }
   },
   "source": [
    "### 2) Python 개발자 설문조사 (by JetBrains)"
   ]
  },
  {
   "cell_type": "markdown",
   "metadata": {
    "nbpresent": {
     "id": "15036889-505e-4cf7-9863-95c93047ffce"
    }
   },
   "source": [
    "- 2000년에 설립된 체코 회사\n",
    "- 통합 개발 환경 프로그램을 만드는 소프트웨어 회사, Python 세계에서는 PyCharm 이라는 인기있는 IDE를 만들었다."
   ]
  },
  {
   "cell_type": "markdown",
   "metadata": {
    "nbpresent": {
     "id": "505e6390-705e-49e7-b9eb-fd0838ada1dd"
    }
   },
   "source": [
    "출처: https://www.jetbrains.com/research/python-developers-survey-2017/"
   ]
  },
  {
   "cell_type": "markdown",
   "metadata": {
    "nbpresent": {
     "id": "8ca2e2fd-760a-46ca-898f-642b82da93f7"
    }
   },
   "source": [
    "#### Python으로 개발하는 분야"
   ]
  },
  {
   "cell_type": "code",
   "execution_count": 10,
   "metadata": {
    "nbpresent": {
     "id": "ce065613-e9ea-46ac-a78c-b20ebd1f5b8e"
    }
   },
   "outputs": [
    {
     "data": {
      "image/png": "images/python_survey_usage.png",
      "text/plain": [
       "<IPython.core.display.Image object>"
      ]
     },
     "execution_count": 10,
     "metadata": {},
     "output_type": "execute_result"
    }
   ],
   "source": [
    "Image('images/python_survey_usage.png')"
   ]
  },
  {
   "cell_type": "markdown",
   "metadata": {
    "nbpresent": {
     "id": "28f3ad3d-cd3a-424a-9168-25c8bf85650e"
    }
   },
   "source": [
    "#### Data Scientist들이 주로 사용하는 Library"
   ]
  },
  {
   "cell_type": "code",
   "execution_count": 11,
   "metadata": {
    "nbpresent": {
     "id": "22a6d7ba-983e-4bd6-9b7c-bd1764daf23a"
    }
   },
   "outputs": [
    {
     "data": {
      "image/png": "images/survey_most_lib.png",
      "text/plain": [
       "<IPython.core.display.Image object>"
      ]
     },
     "execution_count": 11,
     "metadata": {},
     "output_type": "execute_result"
    }
   ],
   "source": [
    "Image('images/survey_most_lib.png')"
   ]
  },
  {
   "cell_type": "markdown",
   "metadata": {
    "nbpresent": {
     "id": "02b29fb5-5fc4-4f36-acec-5c9349c3612d"
    }
   },
   "source": [
    "#### Data Scientist들이 추가적으로 사용하는 기술들"
   ]
  },
  {
   "cell_type": "code",
   "execution_count": 12,
   "metadata": {
    "nbpresent": {
     "id": "f5be8a7f-ead0-49f9-8827-8708935d9d73"
    }
   },
   "outputs": [
    {
     "data": {
      "image/png": "images/survey_addi_tech.png",
      "text/plain": [
       "<IPython.core.display.Image object>"
      ]
     },
     "execution_count": 12,
     "metadata": {},
     "output_type": "execute_result"
    }
   ],
   "source": [
    "Image('images/survey_addi_tech.png')"
   ]
  },
  {
   "cell_type": "markdown",
   "metadata": {},
   "source": [
    "---"
   ]
  },
  {
   "cell_type": "markdown",
   "metadata": {
    "nbpresent": {
     "id": "f07bcce4-19d4-4e45-a8eb-667faee5e150"
    }
   },
   "source": [
    "# Python 역사 및 Trend"
   ]
  },
  {
   "cell_type": "markdown",
   "metadata": {},
   "source": [
    "## 1. 역사"
   ]
  },
  {
   "cell_type": "markdown",
   "metadata": {
    "nbpresent": {
     "id": "03ada8b6-7311-4010-8384-545741e845d2"
    }
   },
   "source": [
    "- 1991년 네덜랜드 국립 연구소의 Guido Van Rossum에 의해 발표 (현 2018년, 27년의 역사)\n",
    "- “Python“이라는 이름은 코메디 프로그램 “Monty Python’s Flying Circus”에서 유래\n",
    "- Python의 원래 의미는 그리스 신화에 나오는 거대한 뱀\n",
    "- 2000년 Python 2 발표\n",
    "- 2008년 Python 3 발표\n",
    "    - Python 2의 경우 2020년까지만 Maintenance가 이루어질 예정"
   ]
  },
  {
   "cell_type": "markdown",
   "metadata": {
    "nbpresent": {
     "id": "3b9f1cdf-a730-45d6-a8d9-590f9a14ad7d"
    }
   },
   "source": [
    "## 2. Trend"
   ]
  },
  {
   "cell_type": "markdown",
   "metadata": {
    "nbpresent": {
     "id": "03ae1b5d-710c-4870-8301-4863b5dd8b57"
    }
   },
   "source": [
    "### Google Trend: 2008년 ~ 2018년 Python 검색 추이 - 지역별"
   ]
  },
  {
   "cell_type": "code",
   "execution_count": 13,
   "metadata": {
    "nbpresent": {
     "id": "42a885d5-32cc-4b32-b988-014f7ccb827f"
    }
   },
   "outputs": [
    {
     "data": {
      "image/png": "images/1_2_interest_by_region.png",
      "text/plain": [
       "<IPython.core.display.Image object>"
      ]
     },
     "execution_count": 13,
     "metadata": {},
     "output_type": "execute_result"
    }
   ],
   "source": [
    "Image('images/1_2_interest_by_region.png')"
   ]
  },
  {
   "cell_type": "markdown",
   "metadata": {
    "nbpresent": {
     "id": "4312d466-ae31-4cb3-85d9-c69c11eb943f"
    }
   },
   "source": [
    "    ### Google Trend: 2008년 ~ 2018년 Python 검색 추이, 6위 Seattle 7위 Seoul - 도시별"
   ]
  },
  {
   "cell_type": "code",
   "execution_count": 14,
   "metadata": {
    "nbpresent": {
     "id": "bbcaefbf-d475-4332-9d4b-f4f40233417f"
    }
   },
   "outputs": [
    {
     "data": {
      "image/png": "images/1_2_interest_by_city.png",
      "text/plain": [
       "<IPython.core.display.Image object>"
      ]
     },
     "execution_count": 14,
     "metadata": {},
     "output_type": "execute_result"
    }
   ],
   "source": [
    "Image('images/1_2_interest_by_city.png')"
   ]
  },
  {
   "cell_type": "markdown",
   "metadata": {
    "nbpresent": {
     "id": "31b9c168-7e9d-4831-b3af-abe0c3d002ff"
    }
   },
   "source": [
    "### Google Trend: 2008년 ~ 2018년 Related Topics and Related Queries"
   ]
  },
  {
   "cell_type": "markdown",
   "metadata": {
    "nbpresent": {
     "id": "b9a09a9e-c43c-41c8-bfbe-2b0e3b553ca7"
    }
   },
   "source": [
    "Rank|Related Topics|Related Queries\n",
    "--|--|--\n",
    "1|pandas - Sofwware|python flask\n",
    "2|Raspberry Pi - Computer|flask\n",
    "3|GitHub - Downloadable software|raspberry pi\n",
    "4|PyCharm - Computer program|pycharm\n",
    "5|pip - Package manager|pandas\n",
    "6|scikit-learn - Software|python pip\n",
    "7|Sublime Text - Software|python argparse\n",
    "8|Codecademy - Company|python the hard way\n",
    "9|MongoDB - Topic|codecademy python\n",
    "10|Flask - Web framework|codecademy"
   ]
  },
  {
   "cell_type": "markdown",
   "metadata": {
    "nbpresent": {
     "id": "eedc222e-32b8-496b-942e-30fd9f024453"
    }
   },
   "source": [
    "---"
   ]
  },
  {
   "cell_type": "markdown",
   "metadata": {
    "nbpresent": {
     "id": "2bb70995-daa5-4a3e-8ebe-e25821189962"
    }
   },
   "source": [
    "# Python 설치"
   ]
  },
  {
   "cell_type": "markdown",
   "metadata": {
    "nbpresent": {
     "id": "db98a4e3-c3c8-48fe-955b-d0a980a9ff91"
    }
   },
   "source": [
    "- http://www.python.org\n",
    "- Anaconda (Python 배포판)\n",
    "- brew for mac\n",
    "- apt for ubuntu\n",
    "- yum for CentOS"
   ]
  },
  {
   "cell_type": "markdown",
   "metadata": {},
   "source": [
    "- 설치가 잘 되었는지 확인해보겠습니다.\n",
    "- Anaconda를 정상적으로 설치한 경우\n",
    "    - `시작 > 모든 앱 > Anaconda > Jupyter Notebook`이 있는지 확인\n",
    "    - `실행 > cmd`를 통해 `Terminal`을 실행한 후 `python`을 입력하고 엔터 (빠져나오려면 `exit()`)\n",
    "- Anaconda가 정상적으로 설치되지 않았거나 Python만 설치한 경우\n",
    "    - `실행 > cmd`를 통해 `Terminal`을 실행한 후 `python`을 입력하고 엔터 (빠져나오려면 `exit()`)"
   ]
  },
  {
   "cell_type": "markdown",
   "metadata": {},
   "source": [
    "## 6.2 Python을 이용한 프로그래밍 기초"
   ]
  },
  {
   "cell_type": "markdown",
   "metadata": {},
   "source": [
    "### 1) 프로그래밍"
   ]
  },
  {
   "cell_type": "code",
   "execution_count": 15,
   "metadata": {
    "collapsed": true
   },
   "outputs": [],
   "source": [
    "from IPython.lib.display import YouTubeVideo"
   ]
  },
  {
   "cell_type": "code",
   "execution_count": 16,
   "metadata": {},
   "outputs": [
    {
     "data": {
      "image/jpeg": "[encoded data removed]",
      "text/html": [
       "\n",
       "        <iframe\n",
       "            width=\"700\"\n",
       "            height=\"450\"\n",
       "            src=\"https://www.youtube.com/embed/I5cq54MFQCo?start=150\"\n",
       "            frameborder=\"0\"\n",
       "            allowfullscreen\n",
       "        ></iframe>\n",
       "        "
      ],
      "text/plain": [
       "<IPython.lib.display.YouTubeVideo at 0x1c22d96f8d0>"
      ]
     },
     "execution_count": 16,
     "metadata": {},
     "output_type": "execute_result"
    }
   ],
   "source": [
    "YouTubeVideo(\"I5cq54MFQCo\", start=150, width=700, height=450)"
   ]
  },
  {
   "cell_type": "markdown",
   "metadata": {},
   "source": [
    "나를 대신해 마트에 가서 새우깡 한 봉지을 사오도록 지시하는 상황\n",
    "\n",
    "1. 일단 마을버스 777번을 타세요.\n",
    "2. 3개의 정거장을 지난 후 4번째 정거장에서 하차하세요.\n",
    "3. 정거장 우측으로 100m를 직진한 후 A 마트로 가세요.\n",
    "4. 마트의 2층 식품 판매대에서 과자 한 봉지를 사세요.\n",
    "5. 1층 결제 코너에서 C 카드를 통해 결제하시고 포인트는 제 핸드폰 뒷 자리 4자리로 적립하세요.\n",
    "6. A마트 맞은편 버스 정류장에서 777 버스를 타세요.\n",
    "7. 세 개의 정거장을 지나 4번째 정거장에서 하차하세요.\n",
    "8. 집으로 돌아와서 새우깡을 뜯어 새우깡 하나를 집어 저에게 먹여주세요."
   ]
  },
  {
   "cell_type": "markdown",
   "metadata": {},
   "source": [
    "- 컴퓨터에게 어떤 일을 시킬 때도 위와 같은 형태로 **지시 내용을 나열**해야 합니다.\n",
    "- 이처럼 명령어가 나열된 것을 **프로그램**이라고 하며, 프로그램을 작성하는 행위를 **프로그래밍**이라고 합니다."
   ]
  },
  {
   "cell_type": "markdown",
   "metadata": {},
   "source": [
    "### 2) 프로그래밍을 나에게 적용한다면?"
   ]
  },
  {
   "cell_type": "markdown",
   "metadata": {},
   "source": [
    "- 간 밤 라인별/모델별 생산량을 파악해 Delivery를 만족할 수 있는지 분석/예측 차트/테이블을 만든다.\n",
    "- 최근 유가증권시장/코스닥시장에서 거래량이 60일 평균치에 비해 2배 이상 급등한 종목을 나에게 알려준다.\n",
    "- 고객 만족도 조사 파일을 받아 해당 제품의 만족도가 낮은 이유에는 어떤 걸들이 있는지 보여준다."
   ]
  },
  {
   "cell_type": "markdown",
   "metadata": {
    "nbpresent": {
     "id": "b0a095d7-ab74-4b81-8318-a6dd3f457d76"
    }
   },
   "source": [
    "### 3) 패키지 > 모듈 > 클래스|함수|변수"
   ]
  },
  {
   "cell_type": "code",
   "execution_count": 17,
   "metadata": {
    "collapsed": true
   },
   "outputs": [],
   "source": [
    "# from 패키지.모듈 import 함수\n",
    "from numpy.random import randint"
   ]
  },
  {
   "cell_type": "code",
   "execution_count": 18,
   "metadata": {},
   "outputs": [
    {
     "data": {
      "text/plain": [
       "array([[1665, 1474, 1988, 1188],\n",
       "       [1771, 1814, 1217, 1370],\n",
       "       [1689, 1787, 1094, 1232],\n",
       "       [1527, 1701, 1736, 1883],\n",
       "       [1145, 1647, 1912, 1193],\n",
       "       [1990, 1725, 1063, 1830],\n",
       "       [1716, 1005, 1785, 1395]])"
      ]
     },
     "execution_count": 18,
     "metadata": {},
     "output_type": "execute_result"
    }
   ],
   "source": [
    "randint(1000, 2000, size=(7, 4))"
   ]
  },
  {
   "cell_type": "markdown",
   "metadata": {
    "nbpresent": {
     "id": "0341792b-e7d1-4ada-8590-22d4684b00c0"
    }
   },
   "source": [
    "- 패키지: 디렉토리\n",
    "- 모듈: 파일(확장자: py)\n",
    "- 클래스|함수|변수: 모듈 안의 객체\n",
    "- 점(.)으로 접근"
   ]
  },
  {
   "cell_type": "markdown",
   "metadata": {
    "nbpresent": {
     "id": "63df32b2-4005-4a92-8a86-20d7e8c92010"
    }
   },
   "source": [
    "- 보통은 변수를 선언할 때 앞에 붙여 사용한다.\n",
    "- ex) `int num = 10;`\n",
    "- ex) C, C#, C++, Java\n",
    "- 이렇게 미리 선언하는 방식을 정적 타입이라 한다.\n",
    "\n",
    "\n",
    "- 그러나 Python은 타입을 지정하지 않아도 된다.\n",
    "- ex) `num = 10`\n",
    "- ex) JavaScript, Ruby, Python"
   ]
  },
  {
   "cell_type": "markdown",
   "metadata": {
    "nbpresent": {
     "id": "73fafab9-f9b1-4ca9-bbac-d08cec40364f"
    }
   },
   "source": [
    "### 파이썬의 모든 것은 객체 ⭐️"
   ]
  },
  {
   "cell_type": "markdown",
   "metadata": {},
   "source": [
    "### 3) 객체와 클래스"
   ]
  },
  {
   "cell_type": "markdown",
   "metadata": {
    "nbpresent": {
     "id": "bf75f8a4-db2c-4f36-8699-5030251286cf"
    }
   },
   "source": [
    "- 파이썬 프로그램에서 모든 데이터는 객체(object)라는 개념을 사용하여 저장된다.\n",
    "- 가장 기본이 되는 데이터 타입인 숫자, 문자열, 리스트, 사전은 다 객체이다.\n",
    "- 이를 더 잘 이해하기 위해선 객체지향프로그래밍을 알아야 한다.\n",
    "- 객체를 만드는 것은 클래스이다.\n",
    "- **클래스 = 속성 + 행동**\n",
    "- Object-Oriented Programming(객체지향프로그래밍, OOP)에서 객체가 바로 클래스를 통해 만들 수 있는 것이다."
   ]
  },
  {
   "cell_type": "markdown",
   "metadata": {},
   "source": [
    "**사람 클래스**\n",
    "    - 인스턴스(객체): 홍길동\n",
    "        - 속성: 국적=대한민국, 체력=93\n",
    "        - 메소드(행동): 벌주기\n",
    "    - 인스턴스(객체): 셜록홈즈\n",
    "        - 속성: 국적=영국, 자격증=[탐정], 통찰력=99\n",
    "        - 메소드: 추리하기, 파이프피우기"
   ]
  },
  {
   "cell_type": "markdown",
   "metadata": {},
   "source": [
    "**점(.)으로 접근 가능!**\n",
    "```python\n",
    "홍길동 = 사람()\n",
    "print(홍길동.국적)\n",
    "홍길동.벌주기(target='탐관오리')\n",
    "print(홍길동.체력)  # -1\n",
    "\n",
    "셜록홈즈 = 사람()\n",
    "print(셜록홈즈.국적)\n",
    "print(셜록홈즈.자격증)\n",
    "셜록홈즈.파이프피우기(n=10)  # n=-1\n",
    "셜록홈즈.추리하기(algorithm='')\n",
    "```"
   ]
  },
  {
   "cell_type": "code",
   "execution_count": 19,
   "metadata": {
    "nbpresent": {
     "id": "74b8bf1d-0574-4d61-b833-1fc6f9f9f475"
    }
   },
   "outputs": [
    {
     "data": {
      "text/plain": [
       "int"
      ]
     },
     "execution_count": 19,
     "metadata": {},
     "output_type": "execute_result"
    }
   ],
   "source": [
    "type(1)"
   ]
  },
  {
   "cell_type": "code",
   "execution_count": 20,
   "metadata": {},
   "outputs": [
    {
     "data": {
      "text/plain": [
       "str"
      ]
     },
     "execution_count": 20,
     "metadata": {},
     "output_type": "execute_result"
    }
   ],
   "source": [
    "type('this is string!')"
   ]
  },
  {
   "cell_type": "code",
   "execution_count": 21,
   "metadata": {
    "nbpresent": {
     "id": "9b5ac875-d688-463c-b3c4-0ab25ca9ea4d"
    }
   },
   "outputs": [
    {
     "data": {
      "text/plain": [
       "['__add__',\n",
       " '__class__',\n",
       " '__contains__',\n",
       " '__delattr__',\n",
       " '__dir__',\n",
       " '__doc__',\n",
       " '__eq__',\n",
       " '__format__',\n",
       " '__ge__',\n",
       " '__getattribute__',\n",
       " '__getitem__',\n",
       " '__getnewargs__',\n",
       " '__gt__',\n",
       " '__hash__',\n",
       " '__init__',\n",
       " '__init_subclass__',\n",
       " '__iter__',\n",
       " '__le__',\n",
       " '__len__',\n",
       " '__lt__',\n",
       " '__mod__',\n",
       " '__mul__',\n",
       " '__ne__',\n",
       " '__new__',\n",
       " '__reduce__',\n",
       " '__reduce_ex__',\n",
       " '__repr__',\n",
       " '__rmod__',\n",
       " '__rmul__',\n",
       " '__setattr__',\n",
       " '__sizeof__',\n",
       " '__str__',\n",
       " '__subclasshook__',\n",
       " 'capitalize',\n",
       " 'casefold',\n",
       " 'center',\n",
       " 'count',\n",
       " 'encode',\n",
       " 'endswith',\n",
       " 'expandtabs',\n",
       " 'find',\n",
       " 'format',\n",
       " 'format_map',\n",
       " 'index',\n",
       " 'isalnum',\n",
       " 'isalpha',\n",
       " 'isdecimal',\n",
       " 'isdigit',\n",
       " 'isidentifier',\n",
       " 'islower',\n",
       " 'isnumeric',\n",
       " 'isprintable',\n",
       " 'isspace',\n",
       " 'istitle',\n",
       " 'isupper',\n",
       " 'join',\n",
       " 'ljust',\n",
       " 'lower',\n",
       " 'lstrip',\n",
       " 'maketrans',\n",
       " 'partition',\n",
       " 'replace',\n",
       " 'rfind',\n",
       " 'rindex',\n",
       " 'rjust',\n",
       " 'rpartition',\n",
       " 'rsplit',\n",
       " 'rstrip',\n",
       " 'split',\n",
       " 'splitlines',\n",
       " 'startswith',\n",
       " 'strip',\n",
       " 'swapcase',\n",
       " 'title',\n",
       " 'translate',\n",
       " 'upper',\n",
       " 'zfill']"
      ]
     },
     "execution_count": 21,
     "metadata": {},
     "output_type": "execute_result"
    }
   ],
   "source": [
    "dir('this is string!')"
   ]
  },
  {
   "cell_type": "code",
   "execution_count": 22,
   "metadata": {},
   "outputs": [
    {
     "data": {
      "text/plain": [
       "'This Is String!'"
      ]
     },
     "execution_count": 22,
     "metadata": {},
     "output_type": "execute_result"
    }
   ],
   "source": [
    "'this is string!'.title()"
   ]
  },
  {
   "cell_type": "markdown",
   "metadata": {},
   "source": [
    "---"
   ]
  },
  {
   "cell_type": "markdown",
   "metadata": {},
   "source": [
    "# Wrap up"
   ]
  },
  {
   "cell_type": "markdown",
   "metadata": {},
   "source": [
    "1. Jupyter Notebook\n",
    "2. Big Data\n",
    "3. Data Science\n",
    "4. Data Pipeline\n",
    "    1. Collecting: BeautifulSoup, Selenium, Scrapy etc.\n",
    "    2. Processing(Munging, Wrangling, etc.): NumPy, pandas etc.\n",
    "    3. Storing: 각 Database와 연결된 라이브러리 제공 ex) pymysql, mymongo etc.\n",
    "    4. Explorary Data Analysis: NumPy, pandas etc.\n",
    "    5. Machine Learning: Scikit Learn, SparkML, Tensorflow, etc.\n",
    "    6. Communication/Reporting/Building Data Product: Django, Flask etc.\n",
    "5. Programming을 한다는 것"
   ]
  },
  {
   "cell_type": "code",
   "execution_count": null,
   "metadata": {
    "collapsed": true
   },
   "outputs": [],
   "source": []
  }
 ],
 "metadata": {
  "kernelspec": {
   "display_name": "Python 3",
   "language": "python",
   "name": "python3"
  },
  "language_info": {
   "codemirror_mode": {
    "name": "ipython",
    "version": 3
   },
   "file_extension": ".py",
   "mimetype": "text/x-python",
   "name": "python",
   "nbconvert_exporter": "python",
   "pygments_lexer": "ipython3",
   "version": "3.6.1"
  }
 },
 "nbformat": 4,
 "nbformat_minor": 2
}
